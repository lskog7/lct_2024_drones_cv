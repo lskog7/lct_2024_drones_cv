{
 "cells": [
  {
   "cell_type": "code",
   "execution_count": null,
   "metadata": {},
   "outputs": [],
   "source": [
    "import os\n",
    "import random\n",
    "import shutil\n",
    "\n",
    "def create_subset(source_path, dest_path, num_samples, random_state=42):\n",
    "    random.seed(random_state)\n",
    "    \n",
    "    images_path = os.path.join(source_path, 'images')\n",
    "    labels_path = os.path.join(source_path, 'labels')\n",
    "\n",
    "    os.makedirs(dest_path, exist_ok=True)\n",
    "    os.makedirs(os.path.join(dest_path, 'images'), exist_ok=True)\n",
    "    os.makedirs(os.path.join(dest_path, 'labels'), exist_ok=True)\n",
    "    \n",
    "    image_files = [f for f in os.listdir(images_path) if f.endswith('.jpg')]\n",
    "    annotation_files = [f for f in os.listdir(labels_path) if f.endswith('.txt')]\n",
    "    \n",
    "    assert len(image_files) == len(annotation_files), \"Количество изображений и аннотаций должно совпадать\"\n",
    "\n",
    "    selected_indices = random.sample(range(len(image_files)), num_samples)\n",
    "\n",
    "    for idx in selected_indices:\n",
    "        image_file = image_files[idx]\n",
    "        annotation_file = annotation_files[idx]\n",
    "        shutil.copy(os.path.join(images_path, image_file), os.path.join(dest_path, 'images', image_file))\n",
    "        shutil.copy(os.path.join(labels_path, annotation_file), os.path.join(dest_path, 'labels', annotation_file))\n",
    "\n",
    "    print(f\"Создана подвыборка из {num_samples} элементов в {dest_path}\")\n",
    "\n",
    "# Пример использования:\n",
    "# Путь к директориям train_set и validation_set\n",
    "train_set_path = '/path/to/train_set'\n",
    "validation_set_path = '/path/to/validation_set'\n",
    "\n",
    "# Путь к директориям для подвыборок\n",
    "train_subset_path = '/path/to/train_subset'\n",
    "validation_subset_path = '/path/to/validation_subset'\n",
    "\n",
    "# Создание подвыборок\n",
    "create_subset(train_set_path, train_subset_path, 1000, random_state=42)\n",
    "create_subset(validation_set_path, validation_subset_path, 200, random_state=42)\n"
   ]
  }
 ],
 "metadata": {
  "language_info": {
   "name": "python"
  }
 },
 "nbformat": 4,
 "nbformat_minor": 2
}
