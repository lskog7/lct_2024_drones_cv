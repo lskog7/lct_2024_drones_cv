{
 "cells": [
  {
   "cell_type": "code",
   "execution_count": 17,
   "metadata": {},
   "outputs": [],
   "source": [
    "import os\n",
    "import random\n",
    "import shutil\n",
    "from datetime import datetime"
   ]
  },
  {
   "cell_type": "code",
   "execution_count": 18,
   "metadata": {},
   "outputs": [],
   "source": [
    "def create_subset(\n",
    "    source_path,\n",
    "    dest_path,\n",
    "    num_samples,\n",
    "    extensions=[\".jpg\", \".png\", \".JPEG\"],\n",
    "    random_state=42,\n",
    "):\n",
    "    random.seed(random_state)\n",
    "\n",
    "    file_extensions_tuple = tuple(extensions)\n",
    "\n",
    "    images_path = os.path.join(source_path, \"images\")\n",
    "    labels_path = os.path.join(source_path, \"labels\")\n",
    "\n",
    "    os.makedirs(dest_path, exist_ok=True)\n",
    "    os.makedirs(os.path.join(dest_path, \"images\"), exist_ok=True)\n",
    "    os.makedirs(os.path.join(dest_path, \"labels\"), exist_ok=True)\n",
    "\n",
    "    image_files = [\n",
    "        f for f in os.listdir(images_path) if f.endswith(file_extensions_tuple)\n",
    "    ]\n",
    "    annotation_files = [f for f in os.listdir(labels_path) if f.endswith(\".txt\")]\n",
    "\n",
    "    assert len(image_files) == len(\n",
    "        annotation_files\n",
    "    ), \"Количество изображений и аннотаций должно совпадать\"\n",
    "\n",
    "    selected_indices = random.sample(range(len(image_files)), num_samples)\n",
    "\n",
    "    for idx in selected_indices:\n",
    "        image_file = image_files[idx]\n",
    "        annotation_file = annotation_files[idx]\n",
    "        shutil.copy(\n",
    "            os.path.join(images_path, image_file),\n",
    "            os.path.join(dest_path, \"images\", image_file),\n",
    "        )\n",
    "        shutil.copy(\n",
    "            os.path.join(labels_path, annotation_file),\n",
    "            os.path.join(dest_path, \"labels\", annotation_file),\n",
    "        )\n",
    "\n",
    "    print(f\"Создана подвыборка из {num_samples} элементов в {dest_path}\")"
   ]
  },
  {
   "cell_type": "code",
   "execution_count": 25,
   "metadata": {},
   "outputs": [
    {
     "name": "stdout",
     "output_type": "stream",
     "text": [
      "2024_06_06_22_02_08\n",
      "\n",
      "!!!DO NOT PRESS ON THE LINKS!!!\n",
      "Создана подвыборка из 1000 элементов в E:\\Projects\\Data\\LCT\\subsets\\train_subset_2024_06_06_22_02_08\n",
      "Создана подвыборка из 200 элементов в E:\\Projects\\Data\\LCT\\subsets\\validation_subset_2024_06_06_22_02_08\n"
     ]
    }
   ],
   "source": [
    "current_datetime = datetime.now().strftime(\"%Y_%m_%d_%H_%M_%S\")\n",
    "\n",
    "# Путь к директориям train_set и validation_set\n",
    "train_set_path = f\"E:\\\\Projects\\\\Data\\\\LCT\\\\train_set\\\\\"\n",
    "validation_set_path = f\"E:\\\\Projects\\\\Data\\\\LCT\\\\validation_set\\\\\"\n",
    "\n",
    "# Путь к директориям для подвыборок\n",
    "train_subset_path = f\"E:\\\\Projects\\\\Data\\\\LCT\\\\subsets\\\\train_subset_{current_datetime}\"\n",
    "validation_subset_path = (\n",
    "    f\"E:\\\\Projects\\\\Data\\LCT\\\\subsets\\\\validation_subset_{current_datetime}\"\n",
    ")\n",
    "\n",
    "print(current_datetime)\n",
    "print()\n",
    "print(f\"!!!DO NOT PRESS ON THE LINKS!!!\")\n",
    "# Создание подвыборок\n",
    "create_subset(\n",
    "    train_set_path,\n",
    "    train_subset_path,\n",
    "    1000,\n",
    "    extensions=[\".jpg\", \".png\", \".JPEG\"],\n",
    "    random_state=42,\n",
    ")\n",
    "create_subset(\n",
    "    validation_set_path,\n",
    "    validation_subset_path,\n",
    "    200,\n",
    "    extensions=[\".jpg\", \".png\", \".JPEG\"],\n",
    "    random_state=42,\n",
    ")\n",
    "\n",
    "\n",
    "\n",
    "# Самый первый datetime: 2024_06_06_22_02_08"
   ]
  },
  {
   "cell_type": "code",
   "execution_count": 23,
   "metadata": {},
   "outputs": [
    {
     "data": {
      "text/plain": [
       "'\\ntrain: f\"E:\\\\Projects\\\\Data\\\\LCT\\\\subsets\\train_subset_2024_06_06_21_50_12\\nval: f\"E:\\\\Projects\\\\Data\\\\LCT\\\\subsets\\x0balidation_subset_2024_06_06_21_50_12\"\\n\\n# number of classes\\nnc: 5\\n\\n# class names\\nnames: [\\'copter_UAV\\', \\'airplane\\', \\'helicopter\\', \\'bird\\', \\'airplane_UAV\\']\\n'"
      ]
     },
     "execution_count": 23,
     "metadata": {},
     "output_type": "execute_result"
    }
   ],
   "source": [
    "# Первый coco.yaml в придачу\n",
    "\n",
    "\"\"\"\n",
    "train: \"E:\\Projects\\Data\\LCT\\subsets\\train_subset_2024_06_06_22_02_08\"\n",
    "val: \"E:\\Projects\\Data\\LCT\\subsets\\validation_subset_2024_06_06_22_02_08\"\n",
    "\n",
    "# number of classes\n",
    "nc: 5\n",
    "\n",
    "# class names\n",
    "names: ['copter_UAV', 'airplane', 'helicopter', 'bird', 'airplane_UAV']\n",
    "\"\"\""
   ]
  },
  {
   "cell_type": "code",
   "execution_count": 26,
   "metadata": {},
   "outputs": [],
   "source": [
    "# Редактируем coco.yaml\n",
    "\n",
    "yaml_content = f\"\"\"\n",
    "train: \"E:\\\\Projects\\\\Data\\\\LCT\\\\subsets\\\\train_subset_{current_datetime}\"\n",
    "val: \"E:\\\\Projects\\\\Data\\LCT\\\\subsets\\\\validation_subset_{current_datetime}\"\n",
    "\n",
    "# number of classes\n",
    "nc: 5\n",
    "\n",
    "# class names\n",
    "names: ['copter_UAV', 'airplane', 'helicopter', 'bird', 'airplane_UAV']\n",
    "    \"\"\"\n",
    "\n",
    "with open(\n",
    "    \"E:\\\\Projects\\\\VSCode\\\\Python\\\\Conda\\\\LCT\\\\lct_2024_drones_cv\\\\current_model\\\\coco.yaml\",\n",
    "    \"w\",\n",
    ") as f:\n",
    "    f.write(yaml_content)"
   ]
  },
  {
   "cell_type": "code",
   "execution_count": null,
   "metadata": {},
   "outputs": [],
   "source": []
  }
 ],
 "metadata": {
  "kernelspec": {
   "display_name": "Python 3",
   "language": "python",
   "name": "python3"
  },
  "language_info": {
   "codemirror_mode": {
    "name": "ipython",
    "version": 3
   },
   "file_extension": ".py",
   "mimetype": "text/x-python",
   "name": "python",
   "nbconvert_exporter": "python",
   "pygments_lexer": "ipython3",
   "version": "3.11.9"
  }
 },
 "nbformat": 4,
 "nbformat_minor": 2
}
