{
 "cells": [
  {
   "cell_type": "code",
   "execution_count": 1,
   "metadata": {},
   "outputs": [],
   "source": [
    "import os\n",
    "import random\n",
    "import shutil"
   ]
  },
  {
   "cell_type": "code",
   "execution_count": 48,
   "metadata": {},
   "outputs": [],
   "source": [
    "# Установим фиксированный random state для воспроизводимости\n",
    "random_state = 42\n",
    "random.seed(random_state)"
   ]
  },
  {
   "cell_type": "code",
   "execution_count": 30,
   "metadata": {},
   "outputs": [
    {
     "name": "stdout",
     "output_type": "stream",
     "text": [
      "!!!DO NOT PRESS ON THE LINKS!!!\n",
      "Path: E:\\Projects\\Data\\LCT\n",
      "A1 folder path: E:\\Projects\\Data\\LCT\\A1\n",
      "Images path: E:\\Projects\\Data\\LCT\\A1\\images\n",
      "Labels path: E:\\Projects\\Data\\LCT\\A1\\labels\n"
     ]
    }
   ],
   "source": [
    "# Путь к директории с исходным набором данных\n",
    "path = \"E:\\\\Projects\\\\Data\\\\LCT\"\n",
    "# Путь к директории A1\n",
    "a1_path = os.path.join(path, \"A1\")\n",
    "images_path = os.path.join(a1_path, \"images\")\n",
    "labels_path = os.path.join(a1_path, \"labels\")\n",
    "\n",
    "print(f\"!!!DO NOT PRESS ON THE LINKS!!!\")\n",
    "print(f\"Path: {path}\")\n",
    "print(f\"A1 folder path: {a1_path}\")\n",
    "print(f\"Images path: {images_path}\")\n",
    "print(f\"Labels path: {labels_path}\")"
   ]
  },
  {
   "cell_type": "code",
   "execution_count": 31,
   "metadata": {},
   "outputs": [
    {
     "name": "stdout",
     "output_type": "stream",
     "text": [
      "!!!DO NOT PRESS ON THE LINKS!!!\n",
      "Validation set path: E:\\Projects\\Data\\LCT\\validation_set\n",
      "Train set path: E:\\Projects\\Data\\LCT\\train_set\n"
     ]
    }
   ],
   "source": [
    "# Путь к директориям для validation и train\n",
    "validation_path = os.path.join(path, \"validation_set\")\n",
    "train_path = os.path.join(path, \"train_set\")\n",
    "\n",
    "print(f\"!!!DO NOT PRESS ON THE LINKS!!!\")\n",
    "print(f\"Validation set path: {validation_path}\")\n",
    "print(f\"Train set path: {train_path}\")"
   ]
  },
  {
   "cell_type": "code",
   "execution_count": 32,
   "metadata": {},
   "outputs": [],
   "source": [
    "# Убедимся, что необходимые директории существуют\n",
    "os.makedirs(validation_path, exist_ok=True)\n",
    "os.makedirs(os.path.join(validation_path, \"images\"), exist_ok=True)\n",
    "os.makedirs(os.path.join(validation_path, \"labels\"), exist_ok=True)"
   ]
  },
  {
   "cell_type": "code",
   "execution_count": 35,
   "metadata": {},
   "outputs": [
    {
     "name": "stdout",
     "output_type": "stream",
     "text": [
      "Presented image extensions: ('.jpg', '.png', '.JPEG')\n"
     ]
    }
   ],
   "source": [
    "# Список возможных расширений файлов (ну не список а множество)\n",
    "file_extensions = set()\n",
    "for f in os.listdir(images_path):\n",
    "    filename, extension = os.path.splitext(f)\n",
    "    if extension in file_extensions:\n",
    "        continue\n",
    "    else:\n",
    "        file_extensions.add(extension)\n",
    "\n",
    "file_extensions_tuple = tuple(file_extensions)\n",
    "\n",
    "print(f\"Presented image extensions: {file_extensions_tuple}\")"
   ]
  },
  {
   "cell_type": "code",
   "execution_count": 37,
   "metadata": {},
   "outputs": [
    {
     "name": "stdout",
     "output_type": "stream",
     "text": [
      "Image files found: 45000/45000, annotation files found: 45000/45000\n"
     ]
    }
   ],
   "source": [
    "# Список всех файлов изображений и аннотаций в датасете\n",
    "image_files = [f for f in os.listdir(images_path) if f.endswith(file_extensions_tuple)]\n",
    "annotation_files = [f for f in os.listdir(labels_path) if f.endswith(\".txt\")]\n",
    "\n",
    "print(\n",
    "    f\"Image files found: {len(image_files)}/45000, annotation files found: {len(annotation_files)}/45000\"\n",
    ")"
   ]
  },
  {
   "cell_type": "code",
   "execution_count": 103,
   "metadata": {},
   "outputs": [
    {
     "name": "stdout",
     "output_type": "stream",
     "text": [
      "['-_-102-_jpg.rf.11fa36f7948ef0dade5190ffe6e06926.jpg', '-_-131-_jpg.rf.f0dea7827e42141c7dae3f31c8178981.jpg', '-_-207-_jpg.rf.6779163ef3af2ab37435dcd28a4e1012.jpg', '-_-22-_jpg.rf.4364109d11aad0f1c44a5e35ba15bafa.jpg', '-_-22-_jpg.rf.e82c2d6a90e6b6040b7ad95fa5b10cf0.jpg', '-_-233-_jpg.rf.ad60e8563b7e8204fcef15b492815e6f.jpg', '-_-235-_jpg.rf.0724fb98092fe157d6f0e1d39f69e4a5.jpg', '-_-259-_jpg.rf.3a970b3468e2a4ef4892a61267777757.jpg', '-_-77-_jpg.rf.5424e1a89fbd81492827fb911b1c470d.jpg', '-_-77-_jpg.rf.711e094faf9c6fd5d9f020c2496dbffd.jpg']\n",
      "['-_-102-_jpg.rf.11fa36f7948ef0dade5190ffe6e06926.txt', '-_-131-_jpg.rf.f0dea7827e42141c7dae3f31c8178981.txt', '-_-207-_jpg.rf.6779163ef3af2ab37435dcd28a4e1012.txt', '-_-22-_jpg.rf.4364109d11aad0f1c44a5e35ba15bafa.txt', '-_-22-_jpg.rf.e82c2d6a90e6b6040b7ad95fa5b10cf0.txt', '-_-233-_jpg.rf.ad60e8563b7e8204fcef15b492815e6f.txt', '-_-235-_jpg.rf.0724fb98092fe157d6f0e1d39f69e4a5.txt', '-_-259-_jpg.rf.3a970b3468e2a4ef4892a61267777757.txt', '-_-77-_jpg.rf.5424e1a89fbd81492827fb911b1c470d.txt', '-_-77-_jpg.rf.711e094faf9c6fd5d9f020c2496dbffd.txt']\n"
     ]
    }
   ],
   "source": [
    "print(image_files[:10])\n",
    "\n",
    "print(annotation_files[:10])"
   ]
  },
  {
   "cell_type": "code",
   "execution_count": 38,
   "metadata": {},
   "outputs": [],
   "source": [
    "# Убедимся, что количество изображений и аннотаций совпадает\n",
    "assert len(image_files) == len(\n",
    "    annotation_files\n",
    "), \"Количество изображений и аннотаций должно совпадать\""
   ]
  },
  {
   "cell_type": "markdown",
   "metadata": {},
   "source": [
    "Ячейку ниже не трогать!!!"
   ]
  },
  {
   "cell_type": "code",
   "execution_count": 57,
   "metadata": {},
   "outputs": [],
   "source": [
    "# # Выбираем 5000 случайных изображений и соответствующих аннотаций для валидации\n",
    "# # validation_indices = random.sample(range(len(image_files)), 5000)\n",
    "\n",
    "# # print(f\"Number of validation images: {len(validation_indices)}\")\n",
    "\n",
    "# # Надо сохранить то, какие элементы он выбрал и больше не запускать рандом\n",
    "# # validation_file_names = [{idx: image_files[idx]} for idx in validation_indices]\n",
    "\n",
    "\n",
    "# print(f'Saved all chosen filenames with their indices to \"validation_file_names\" list')\n",
    "# print(\"The format is: list of dictionaries like {index:filename}\")\n",
    "\n",
    "\n",
    "# # with open(\"validation_indices.txt\", \"w+\") as f:\n",
    "# #     for idx in validation_indices:\n",
    "# #         f.write(f\"{idx}\\n\")\n",
    "\n",
    "# # print(f'File \"validation_indices.txt\" successfully written! Do not lose it!')\n",
    "\n",
    "# # Читаем индексы из файла\n",
    "# validation_indices = []\n",
    "# with open(\"validation_file_names.txt\") as f:\n",
    "#     for line in f:\n",
    "#         validation_indices.append(line)\n",
    "#         # print(line.rstrip())\n",
    "\n",
    "# print(f'File \"validation_indices.txt\" successfully read!')\n",
    "\n",
    "# # Можем записать по индексам имена (но нам это не нужно)\n",
    "# validation_file_names = [{idx: image_files[idx]} for idx in validation_indices]\n",
    "\n",
    "# with open(\"validation_file_names.txt\", \"w+\") as f:\n",
    "#     for el in validation_file_names:\n",
    "#         f.write(f\"{el}\\n\")\n",
    "\n",
    "# print(f'File \"validation_file_names.txt\" successfully written! Do not lose it!')"
   ]
  },
  {
   "cell_type": "code",
   "execution_count": 63,
   "metadata": {},
   "outputs": [],
   "source": [
    "# Маленькая функция для безопасного сохранения данных, чтобы\n",
    "# не перезаписывать себя же и не переобучать потом нейронку по полчаса из-за этого\n",
    "saving_dir_name = \"E:\\\\Projects\\\\VSCode\\\\Python\\\\Conda\\\\LCT\\\\lct_2024_drones_cv\\\\\"\n",
    "os.makedirs(saving_dir_name, exist_ok=True)\n",
    "\n",
    "\n",
    "def safe_save(file_name: str, array_to_save):\n",
    "    while os.path.exists(saving_dir_name + file_name + \".txt\"):\n",
    "        if file_name[file_name.rfind(\"_\") + 1 :].isdigit():\n",
    "            version = int(file_name[file_name.rfind(\"_\") + 1 :])\n",
    "            file_name = file_name[: file_name.rfind(\"_\") + 1] + str(version + 1)\n",
    "        else:\n",
    "            file_name = file_name + \"_1\"\n",
    "    with open(saving_dir_name + file_name + \".txt\", \"w+\") as f:\n",
    "        for idx in array_to_save:\n",
    "            f.write(f\"{idx}\\n\")\n",
    "    # np.save(saving_dir_name + file_name, array_to_save)"
   ]
  },
  {
   "cell_type": "code",
   "execution_count": 69,
   "metadata": {},
   "outputs": [
    {
     "name": "stdout",
     "output_type": "stream",
     "text": [
      "File \"validation_file_names.txt\" successfully read! Number of elements: 5000\n"
     ]
    }
   ],
   "source": [
    "# Читаем индексы файлов\n",
    "validation_indices = []\n",
    "with open(\"validation_indices.txt\") as f:\n",
    "    for line in f:\n",
    "        validation_indices.append(line)\n",
    "        # print(line.rstrip())\n",
    "\n",
    "if len(validation_indices):\n",
    "    print(\n",
    "        f'File \"validation_file_names.txt\" successfully read! Number of elements: {len(validation_indices)}'\n",
    "    )\n",
    "else:\n",
    "    print(f'File \"validation_file_names.txt\" was not read successfully')"
   ]
  },
  {
   "cell_type": "code",
   "execution_count": 70,
   "metadata": {},
   "outputs": [
    {
     "name": "stdout",
     "output_type": "stream",
     "text": [
      "File \"validation_file_names.txt\" successfully read! Number of elements: 5000\n"
     ]
    }
   ],
   "source": [
    "# Читаем индексы и названия файлов\n",
    "validation_indices_and_file_names = []\n",
    "with open(\"validation_indices_and_file_names.txt\") as f:\n",
    "    for line in f:\n",
    "        validation_indices_and_file_names.append(line)\n",
    "        # print(line.rstrip())\n",
    "\n",
    "if len(validation_indices_and_file_names):\n",
    "    print(\n",
    "        f'File \"validation_file_names.txt\" successfully read! Number of elements: {len(validation_indices_and_file_names)}'\n",
    "    )\n",
    "else:\n",
    "    print(f'File \"validation_file_names.txt\" was not read successfully')"
   ]
  },
  {
   "cell_type": "code",
   "execution_count": 102,
   "metadata": {},
   "outputs": [
    {
     "name": "stdout",
     "output_type": "stream",
     "text": [
      "Filenames were read successfully. Number of filenames: 5000\n"
     ]
    }
   ],
   "source": [
    "# Из validation_indices_and_file_names получаем названия файлов\n",
    "# причем именя я вытаскиваю без расширений, чтобы юзать и в images и в labels\n",
    "\n",
    "validation_file_names = []\n",
    "\n",
    "for dct in validation_indices_and_file_names:\n",
    "    idx = int(dct[1:-2].split(\":\")[0])\n",
    "    filename = dct[1:-2].split(\":\")[1].strip()[1:-1]\n",
    "    validation_file_names.append(filename)\n",
    "\n",
    "if len(validation_file_names):\n",
    "    print(\n",
    "        f\"Filenames were read successfully. Number of filenames: {len(validation_file_names)}\"\n",
    "    )\n",
    "else:\n",
    "    print(f\"Filenames were not read\")"
   ]
  },
  {
   "cell_type": "code",
   "execution_count": null,
   "metadata": {},
   "outputs": [],
   "source": [
    "# Копируем выбранные файлы в директорию validation и удаляем их из исходной директории\n",
    "for idx in validation_indices:\n",
    "    image_file = image_files[idx]\n",
    "    annotation_file = annotation_files[idx]\n",
    "    shutil.move(\n",
    "        os.path.join(images_path, image_file),\n",
    "        os.path.join(validation_path, \"images\", image_file),\n",
    "    )\n",
    "    shutil.move(\n",
    "        os.path.join(labels_path, annotation_file),\n",
    "        os.path.join(validation_path, \"labels\", annotation_file),\n",
    "    )\n",
    "\n",
    "# Переименовываем директорию A1 в train_set\n",
    "os.rename(a1_path, train_path)\n",
    "\n",
    "print(\"Подвыборка для валидации успешно создана и исходная директория переименована\")"
   ]
  }
 ],
 "metadata": {
  "kernelspec": {
   "display_name": "Python 3",
   "language": "python",
   "name": "python3"
  },
  "language_info": {
   "codemirror_mode": {
    "name": "ipython",
    "version": 3
   },
   "file_extension": ".py",
   "mimetype": "text/x-python",
   "name": "python",
   "nbconvert_exporter": "python",
   "pygments_lexer": "ipython3",
   "version": "3.11.9"
  }
 },
 "nbformat": 4,
 "nbformat_minor": 2
}
