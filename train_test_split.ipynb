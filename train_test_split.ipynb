{
 "cells": [
  {
   "cell_type": "code",
   "execution_count": null,
   "metadata": {},
   "outputs": [],
   "source": [
    "import os\n",
    "import random\n",
    "import shutil\n",
    "\n",
    "# Установим фиксированный random state для воспроизводимости\n",
    "random_state = 42\n",
    "random.seed(random_state)\n",
    "\n",
    "# Путь к директории с исходным набором данных\n",
    "path = '/path/to/dataset'\n",
    "# Путь к директории A1\n",
    "a1_path = os.path.join(path, 'A1')\n",
    "images_path = os.path.join(a1_path, 'images')\n",
    "labels_path = os.path.join(a1_path, 'labels')\n",
    "\n",
    "# Путь к директориям для validation и train\n",
    "validation_path = os.path.join(path, 'validation_set')\n",
    "train_path = os.path.join(path, 'train_set')\n",
    "\n",
    "# Убедимся, что необходимые директории существуют\n",
    "os.makedirs(validation_path, exist_ok=True)\n",
    "os.makedirs(os.path.join(validation_path, 'images'), exist_ok=True)\n",
    "os.makedirs(os.path.join(validation_path, 'labels'), exist_ok=True)\n",
    "\n",
    "# Список всех файлов изображений и аннотаций в датасете\n",
    "image_files = [f for f in os.listdir(images_path) if f.endswith('.jpg')]\n",
    "annotation_files = [f for f in os.listdir(labels_path) if f.endswith('.txt')]\n",
    "\n",
    "# Убедимся, что количество изображений и аннотаций совпадает\n",
    "assert len(image_files) == len(annotation_files), \"Количество изображений и аннотаций должно совпадать\"\n",
    "\n",
    "# Выбираем 5000 случайных изображений и соответствующих аннотаций для валидации\n",
    "validation_indices = random.sample(range(len(image_files)), 5000)\n",
    "\n",
    "# Копируем выбранные файлы в директорию validation и удаляем их из исходной директории\n",
    "for idx in validation_indices:\n",
    "    image_file = image_files[idx]\n",
    "    annotation_file = annotation_files[idx]\n",
    "    shutil.move(os.path.join(images_path, image_file), os.path.join(validation_path, 'images', image_file))\n",
    "    shutil.move(os.path.join(labels_path, annotation_file), os.path.join(validation_path, 'labels', annotation_file))\n",
    "\n",
    "# Переименовываем директорию A1 в train_set\n",
    "os.rename(a1_path, train_path)\n",
    "\n",
    "print(\"Подвыборка для валидации успешно создана и исходная директория переименована\")\n"
   ]
  }
 ],
 "metadata": {
  "language_info": {
   "name": "python"
  }
 },
 "nbformat": 4,
 "nbformat_minor": 2
}
