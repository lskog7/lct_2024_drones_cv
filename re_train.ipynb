{
 "cells": [
  {
   "cell_type": "code",
   "execution_count": null,
   "metadata": {},
   "outputs": [],
   "source": [
    "# Установим необходимые библиотеки\n",
    "!pip install ultralytics\n",
    "\n",
    "# Импортируем нужные библиотеки\n",
    "from ultralytics import YOLO\n",
    "\n",
    "# Путь к файлу конфигурации и весам предобученной модели\n",
    "pretrained_model_path = 'path/to/pretrained/model.pt'\n",
    "# Путь к датасету для дообучения\n",
    "data_path = '/path/to/subset/dataset'\n",
    "\n",
    "# Создаем объект модели YOLOv8 Nano\n",
    "model = YOLO(pretrained_model_path)\n",
    "\n",
    "# Начинаем процесс дообучения\n",
    "model.train(\n",
    "    data=data_path,\n",
    "    epochs=50,           # Количество эпох дообучения\n",
    "    imgsz=640,           # Размер входного изображения\n",
    "    batch=16,            # Размер батча\n",
    "    workers=4,           # Количество потоков для загрузки данных\n",
    "    project='runs/train', # Папка для сохранения результатов тренировки\n",
    "    name='yolov8n_finetune', # Название поддиректории для данной тренировки\n",
    ")\n",
    "\n",
    "# После дообучения сохраняем финальные веса модели\n",
    "model.save('path/to/save/finetuned_model.pt')\n"
   ]
  }
 ],
 "metadata": {
  "language_info": {
   "name": "python"
  }
 },
 "nbformat": 4,
 "nbformat_minor": 2
}
